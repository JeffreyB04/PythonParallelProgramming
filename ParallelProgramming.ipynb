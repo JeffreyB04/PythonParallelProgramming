{
  "nbformat": 4,
  "nbformat_minor": 0,
  "metadata": {
    "colab": {
      "provenance": [],
      "authorship_tag": "ABX9TyMJIqjcSD9LHbtYfrLWmXDS",
      "include_colab_link": true
    },
    "kernelspec": {
      "name": "python3",
      "display_name": "Python 3"
    },
    "language_info": {
      "name": "python"
    }
  },
  "cells": [
    {
      "cell_type": "markdown",
      "metadata": {
        "id": "view-in-github",
        "colab_type": "text"
      },
      "source": [
        "<a href=\"https://colab.research.google.com/github/JeffreyB04/PythonParallelProgramming/blob/Collab/ParallelProgramming.ipynb\" target=\"_parent\"><img src=\"https://colab.research.google.com/assets/colab-badge.svg\" alt=\"Open In Colab\"/></a>"
      ]
    },
    {
      "cell_type": "code",
      "execution_count": null,
      "metadata": {
        "id": "GeWdYrU4esff"
      },
      "outputs": [],
      "source": [
        "import threading\n",
        "import random\n",
        "import time"
      ]
    },
    {
      "cell_type": "code",
      "source": [
        "def ordena_subvector(subvector, hilo):\n",
        "    tiempo_inicio = time.time()\n",
        "    subvector.sort()\n",
        "    print(subvector)\n",
        "    tiempo_fin = time.time()\n",
        "    tiempo_ejecucion = tiempo_fin - tiempo_inicio\n",
        "    print(f\"Hilo {hilo}: Subvector ordenado en (Tiempo: {tiempo_ejecucion} segundos)\")"
      ],
      "metadata": {
        "id": "NMd7Jy6Gh_-w"
      },
      "execution_count": null,
      "outputs": []
    },
    {
      "cell_type": "code",
      "source": [
        "def dividir_vector(vector, num_hilos):\n",
        "    longitud_subvector = len(vector) // num_hilos\n",
        "    subvectores = [vector[i:i+longitud_subvector] for i in range(0, len(vector), longitud_subvector)]\n",
        "    return subvectores"
      ],
      "metadata": {
        "id": "q4OCLl4QiEhk"
      },
      "execution_count": null,
      "outputs": []
    },
    {
      "cell_type": "code",
      "source": [
        "def unir_vectores(subvectores):\n",
        "    vector_ordenado = [num for subvector in subvectores for num in subvector]\n",
        "    return vector_ordenado"
      ],
      "metadata": {
        "id": "ur-VV3CdiHQ3"
      },
      "execution_count": null,
      "outputs": []
    },
    {
      "cell_type": "code",
      "source": [
        "def ordenar_vector(vector, num_hilos):\n",
        "    subvectores = dividir_vector(vector, num_hilos)\n",
        "    threads = []\n",
        "    for i, subvector in enumerate(subvectores):\n",
        "        thread = threading.Thread(target=ordena_subvector, args=(subvector, i))\n",
        "        thread.start()\n",
        "        threads.append(thread)\n",
        "        for thread in threads:\n",
        "            thread.join()\n",
        "    vector_ordenado = unir_vectores(subvectores)\n",
        "    vector_ordenado.sort()\n",
        "    print(f\"Vector ordenado final: {vector_ordenado}\")"
      ],
      "metadata": {
        "id": "c_9fQVgjig50"
      },
      "execution_count": null,
      "outputs": []
    },
    {
      "cell_type": "code",
      "source": [
        "vector_grande = [random.randint(0, 100) for _ in range(100)]\n",
        "\n",
        "num_hilos = int(input (\"Ingrese el número de hilos: \"))\n",
        "\n",
        "ordenar_vector(vector=vector_grande, num_hilos=num_hilos)"
      ],
      "metadata": {
        "colab": {
          "base_uri": "https://localhost:8080/"
        },
        "id": "4oHtxl8ikD66",
        "outputId": "d8d741b9-4147-4815-c345-01feab1f755d"
      },
      "execution_count": null,
      "outputs": [
        {
          "output_type": "stream",
          "name": "stdout",
          "text": [
            "Ingrese el número de hilos: 2\n",
            "[1, 2, 2, 3, 4, 7, 7, 7, 10, 11, 17, 19, 20, 23, 25, 25, 28, 28, 28, 29, 31, 34, 35, 40, 41, 50, 50, 51, 51, 52, 61, 61, 63, 63, 64, 69, 72, 73, 74, 76, 77, 77, 78, 79, 84, 84, 90, 92, 94, 96]\n",
            "Hilo 0: Subvector ordenado en (Tiempo: 0.0006582736968994141 segundos)\n",
            "[2, 3, 7, 8, 11, 11, 14, 19, 20, 25, 27, 27, 29, 30, 31, 37, 40, 40, 42, 43, 47, 48, 48, 48, 50, 50, 54, 55, 56, 57, 63, 67, 69, 69, 70, 71, 72, 73, 77, 78, 80, 81, 83, 84, 88, 89, 92, 92, 93, 95]\n",
            "Hilo 1: Subvector ordenado en (Tiempo: 0.0009262561798095703 segundos)\n",
            "Vector ordenado final: [1, 2, 2, 2, 3, 3, 4, 7, 7, 7, 7, 8, 10, 11, 11, 11, 14, 17, 19, 19, 20, 20, 23, 25, 25, 25, 27, 27, 28, 28, 28, 29, 29, 30, 31, 31, 34, 35, 37, 40, 40, 40, 41, 42, 43, 47, 48, 48, 48, 50, 50, 50, 50, 51, 51, 52, 54, 55, 56, 57, 61, 61, 63, 63, 63, 64, 67, 69, 69, 69, 70, 71, 72, 72, 73, 73, 74, 76, 77, 77, 77, 78, 78, 79, 80, 81, 83, 84, 84, 84, 88, 89, 90, 92, 92, 92, 93, 94, 95, 96]\n"
          ]
        }
      ]
    },
    {
      "cell_type": "code",
      "source": [],
      "metadata": {
        "id": "AdQJmgAykCEI"
      },
      "execution_count": null,
      "outputs": []
    }
  ]
}